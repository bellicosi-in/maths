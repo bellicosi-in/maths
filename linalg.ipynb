{
 "cells": [
  {
   "cell_type": "code",
   "execution_count": 1,
   "id": "b043baa6",
   "metadata": {},
   "outputs": [],
   "source": [
    "import numpy as np"
   ]
  },
  {
   "cell_type": "code",
   "execution_count": 2,
   "id": "fece5b09",
   "metadata": {},
   "outputs": [],
   "source": [
    "A = np.array([\n",
    "            [4, -3, 1],\n",
    "            [2, 1, 3],\n",
    "            [-1, 2, -5]\n",
    "             ], dtype = np.dtype(float))\n",
    "b = np.array([-10,0,17], dtype = np.dtype(float))"
   ]
  },
  {
   "cell_type": "code",
   "execution_count": 3,
   "id": "7490e271",
   "metadata": {},
   "outputs": [
    {
     "data": {
      "text/plain": [
       "array([-10.,   0.,  17.])"
      ]
     },
     "execution_count": 3,
     "metadata": {},
     "output_type": "execute_result"
    }
   ],
   "source": [
    "b"
   ]
  },
  {
   "cell_type": "code",
   "execution_count": 4,
   "id": "e5f6c8e8",
   "metadata": {},
   "outputs": [
    {
     "data": {
      "text/plain": [
       "(3,)"
      ]
     },
     "execution_count": 4,
     "metadata": {},
     "output_type": "execute_result"
    }
   ],
   "source": [
    "b.shape"
   ]
  },
  {
   "cell_type": "code",
   "execution_count": 5,
   "id": "5647b9b7",
   "metadata": {},
   "outputs": [],
   "source": [
    "x = np.linalg.solve(A,b)"
   ]
  },
  {
   "cell_type": "code",
   "execution_count": 6,
   "id": "ebd1bb6b",
   "metadata": {},
   "outputs": [
    {
     "data": {
      "text/plain": [
       "array([ 1.,  4., -2.])"
      ]
     },
     "execution_count": 6,
     "metadata": {},
     "output_type": "execute_result"
    }
   ],
   "source": [
    "x"
   ]
  },
  {
   "cell_type": "code",
   "execution_count": 7,
   "id": "31e0d847",
   "metadata": {},
   "outputs": [
    {
     "data": {
      "text/plain": [
       "-60.000000000000036"
      ]
     },
     "execution_count": 7,
     "metadata": {},
     "output_type": "execute_result"
    }
   ],
   "source": [
    "np.linalg.det(A)"
   ]
  },
  {
   "cell_type": "code",
   "execution_count": 8,
   "id": "35ab8a55",
   "metadata": {},
   "outputs": [],
   "source": [
    "A_system = np.hstack((A,b.reshape(3,1)))"
   ]
  },
  {
   "cell_type": "code",
   "execution_count": 9,
   "id": "82fa30fa",
   "metadata": {},
   "outputs": [
    {
     "data": {
      "text/plain": [
       "array([[  4.,  -3.,   1., -10.],\n",
       "       [  2.,   1.,   3.,   0.],\n",
       "       [ -1.,   2.,  -5.,  17.]])"
      ]
     },
     "execution_count": 9,
     "metadata": {},
     "output_type": "execute_result"
    }
   ],
   "source": [
    "A_system"
   ]
  },
  {
   "cell_type": "code",
   "execution_count": 10,
   "id": "0782e24e",
   "metadata": {},
   "outputs": [],
   "source": [
    "def multiply_row(M, row_num, row_num_multiple):\n",
    "    M_new = M.copy()\n",
    "    M_new[row_num] = M[row_num] * row_num_multiple\n",
    "    return M_new"
   ]
  },
  {
   "cell_type": "code",
   "execution_count": 11,
   "id": "1a4cc9d0",
   "metadata": {},
   "outputs": [
    {
     "data": {
      "text/plain": [
       "array([[  4.,  -3.,   1., -10.],\n",
       "       [-10.,  -5., -15.,  -0.],\n",
       "       [ -1.,   2.,  -5.,  17.]])"
      ]
     },
     "execution_count": 11,
     "metadata": {},
     "output_type": "execute_result"
    }
   ],
   "source": [
    "multiply_row(A_system, 1, -5)"
   ]
  },
  {
   "cell_type": "code",
   "execution_count": 37,
   "id": "a7cda5c9",
   "metadata": {},
   "outputs": [],
   "source": [
    "def add_rows(M, row_num_1, row_num_2, row_num_1_multiple):\n",
    "    M_new = M.copy()\n",
    "    M_new[row_num_2] =( M_new[\n",
    "        row_num_1] * row_num_1_multiple ) + M_new[row_num_2]\n",
    "    return M_new\n",
    "    "
   ]
  },
  {
   "cell_type": "code",
   "execution_count": 38,
   "id": "0113f6ff",
   "metadata": {},
   "outputs": [],
   "source": [
    "def swap_rows(M,row_num_1, row_num_2):\n",
    "    M_new = M.copy()\n",
    "    M_new[[row_num_1,row_num_2]] = M_new[[row_num_2,row_num_1]]\n",
    "    return M_new"
   ]
  },
  {
   "cell_type": "code",
   "execution_count": 39,
   "id": "fc0856f4",
   "metadata": {},
   "outputs": [
    {
     "data": {
      "text/plain": [
       "array([[  2.,   1.,   3.,   0.],\n",
       "       [  4.,  -3.,   1., -10.],\n",
       "       [ -1.,   2.,  -5.,  17.]])"
      ]
     },
     "execution_count": 39,
     "metadata": {},
     "output_type": "execute_result"
    }
   ],
   "source": [
    "SwapRows(A_system,0,1)"
   ]
  },
  {
   "cell_type": "code",
   "execution_count": 40,
   "id": "2a5b0bc8",
   "metadata": {},
   "outputs": [
    {
     "data": {
      "text/plain": [
       "array([[ -1.,   2.,  -5.,  17.],\n",
       "       [  2.,   1.,   3.,   0.],\n",
       "       [  4.,  -3.,   1., -10.]])"
      ]
     },
     "execution_count": 40,
     "metadata": {},
     "output_type": "execute_result"
    }
   ],
   "source": [
    "A_new = swap_rows(A_system,0,2)\n",
    "A_new"
   ]
  },
  {
   "cell_type": "code",
   "execution_count": 41,
   "id": "2507e8d0",
   "metadata": {},
   "outputs": [
    {
     "data": {
      "text/plain": [
       "array([[ -1.,   2.,  -5.,  17.],\n",
       "       [  0.,   5.,  -7.,  34.],\n",
       "       [  4.,  -3.,   1., -10.]])"
      ]
     },
     "execution_count": 41,
     "metadata": {},
     "output_type": "execute_result"
    }
   ],
   "source": [
    "A_new = add_rows(A_new, 0,1,2)\n",
    "\n",
    "A_new"
   ]
  },
  {
   "cell_type": "code",
   "execution_count": 42,
   "id": "521b4113",
   "metadata": {},
   "outputs": [
    {
     "data": {
      "text/plain": [
       "array([[ -1.,   2.,  -5.,  17.],\n",
       "       [  0.,   5.,  -7.,  34.],\n",
       "       [  0.,   5., -19.,  58.]])"
      ]
     },
     "execution_count": 42,
     "metadata": {},
     "output_type": "execute_result"
    }
   ],
   "source": [
    "A_new = add_rows(A_new, 0,2,4)\n",
    "A_new"
   ]
  },
  {
   "cell_type": "code",
   "execution_count": 44,
   "id": "730e6863",
   "metadata": {},
   "outputs": [
    {
     "name": "stdout",
     "output_type": "stream",
     "text": [
      "\u001b[0;32m✓\u001b[0m Created repository bellicosi-in/maths on GitHub\n",
      "\n",
      "\n",
      "\u001b[0;33mA new release of gh is available:\u001b[0m \u001b[0;36m2.32.1\u001b[0m → \u001b[0;36m2.44.1\u001b[0m\n",
      "\u001b[0;33mhttps://github.com/cli/cli/releases/tag/v2.44.1\u001b[0m\n",
      "\n"
     ]
    }
   ],
   "source": [
    "!gh repo create maths --public"
   ]
  },
  {
   "cell_type": "code",
   "execution_count": 48,
   "id": "c4280d45",
   "metadata": {},
   "outputs": [],
   "source": [
    "!git add README.md\n",
    "!echo \"### using numpy to learn linear algebra\" > README.md"
   ]
  },
  {
   "cell_type": "code",
   "execution_count": 47,
   "id": "8cd8efd3",
   "metadata": {},
   "outputs": [
    {
     "name": "stdout",
     "output_type": "stream",
     "text": [
      "Initialized empty Git repository in /Users/priyanshukumar/Desktop/maths_py/.git/\r\n"
     ]
    }
   ],
   "source": [
    "!git init"
   ]
  },
  {
   "cell_type": "code",
   "execution_count": 49,
   "id": "afe8ac90",
   "metadata": {},
   "outputs": [],
   "source": [
    "!git remote add origin https://github.com/bellicosi-in/maths.git"
   ]
  },
  {
   "cell_type": "code",
   "execution_count": 50,
   "id": "d7649dfb",
   "metadata": {},
   "outputs": [],
   "source": [
    "!git branch -m main"
   ]
  },
  {
   "cell_type": "code",
   "execution_count": 52,
   "id": "a3553dae",
   "metadata": {},
   "outputs": [],
   "source": [
    "!touch .gitignore"
   ]
  },
  {
   "cell_type": "code",
   "execution_count": null,
   "id": "a2f76016",
   "metadata": {},
   "outputs": [],
   "source": [
    "!echo "
   ]
  }
 ],
 "metadata": {
  "kernelspec": {
   "display_name": "Python 3 (ipykernel)",
   "language": "python",
   "name": "python3"
  },
  "language_info": {
   "codemirror_mode": {
    "name": "ipython",
    "version": 3
   },
   "file_extension": ".py",
   "mimetype": "text/x-python",
   "name": "python",
   "nbconvert_exporter": "python",
   "pygments_lexer": "ipython3",
   "version": "3.9.7"
  }
 },
 "nbformat": 4,
 "nbformat_minor": 5
}
